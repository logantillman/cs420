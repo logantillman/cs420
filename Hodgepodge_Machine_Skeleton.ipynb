{
 "cells": [
  {
   "cell_type": "code",
   "execution_count": 6,
   "id": "ce106c76",
   "metadata": {},
   "outputs": [],
   "source": [
    "%matplotlib notebook\n",
    "import numpy as np\n",
    "import matplotlib.pyplot as plt\n",
    "import matplotlib.animation as animation\n",
    "import time        \n",
    "\n",
    "# Hodge podge parameters\n",
    "n = 100  # Number of states\n",
    "k1 = 3.0   # Contagion for infected cells\n",
    "k2 = 3.0   # Contagion factor for ill cells\n",
    "g = 25   # Infection evolution speed\n",
    "\n",
    "dim = 200\n",
    "timesteps = 500\n",
    "\n",
    "\n",
    "def get_neighbors(i,j,dim):\n",
    "    return [[(i-1)%dim, (j-1)%dim], \n",
    "            [(i-1)%dim, j], \n",
    "            [(i-1)%dim, (j+1)%dim], \n",
    "            [i,(j-1)%dim], \n",
    "            [i,(j+1)%dim], \n",
    "            [(i+1)%dim, (j-1)%dim], \n",
    "            [(i+1)%dim, j], \n",
    "            [(i+1)%dim, (j+1)%dim]\n",
    "           ] "
   ]
  },
  {
   "cell_type": "code",
   "execution_count": 7,
   "id": "394daf94",
   "metadata": {},
   "outputs": [
    {
     "ename": "KeyboardInterrupt",
     "evalue": "",
     "output_type": "error",
     "traceback": [
      "\u001b[0;31m---------------------------------------------------------------------------\u001b[0m",
      "\u001b[0;31mKeyboardInterrupt\u001b[0m                         Traceback (most recent call last)",
      "\u001b[0;32m/var/folders/x7/pdx64kyj0l1bkkz8zq8crxpc0000gn/T/ipykernel_7590/2090246103.py\u001b[0m in \u001b[0;36m<module>\u001b[0;34m\u001b[0m\n\u001b[1;32m     25\u001b[0m             \u001b[0;31m# Loop over neighbors and count healthy, infected, ill, and numerator for infected condition\u001b[0m\u001b[0;34m\u001b[0m\u001b[0;34m\u001b[0m\u001b[0m\n\u001b[1;32m     26\u001b[0m             \u001b[0;32mfor\u001b[0m \u001b[0mx\u001b[0m \u001b[0;32min\u001b[0m \u001b[0mneighbors\u001b[0m\u001b[0;34m:\u001b[0m\u001b[0;34m\u001b[0m\u001b[0m\n\u001b[0;32m---> 27\u001b[0;31m                 \u001b[0;32mif\u001b[0m \u001b[0;34m(\u001b[0m\u001b[0mcells\u001b[0m\u001b[0;34m[\u001b[0m\u001b[0mt\u001b[0m\u001b[0;34m,\u001b[0m\u001b[0mx\u001b[0m\u001b[0;34m[\u001b[0m\u001b[0;36m0\u001b[0m\u001b[0;34m]\u001b[0m\u001b[0;34m,\u001b[0m\u001b[0mx\u001b[0m\u001b[0;34m[\u001b[0m\u001b[0;36m1\u001b[0m\u001b[0;34m]\u001b[0m\u001b[0;34m]\u001b[0m \u001b[0;34m==\u001b[0m \u001b[0;36m0\u001b[0m\u001b[0;34m)\u001b[0m\u001b[0;34m:\u001b[0m\u001b[0;34m\u001b[0m\u001b[0m\n\u001b[0m\u001b[1;32m     28\u001b[0m                     \u001b[0mhealthy\u001b[0m \u001b[0;34m+=\u001b[0m \u001b[0;36m1\u001b[0m\u001b[0;34m\u001b[0m\u001b[0m\n\u001b[1;32m     29\u001b[0m                 \u001b[0;32melif\u001b[0m \u001b[0;34m(\u001b[0m\u001b[0mcells\u001b[0m\u001b[0;34m[\u001b[0m\u001b[0mt\u001b[0m\u001b[0;34m,\u001b[0m\u001b[0mx\u001b[0m\u001b[0;34m[\u001b[0m\u001b[0;36m0\u001b[0m\u001b[0;34m]\u001b[0m\u001b[0;34m,\u001b[0m\u001b[0mx\u001b[0m\u001b[0;34m[\u001b[0m\u001b[0;36m1\u001b[0m\u001b[0;34m]\u001b[0m\u001b[0;34m]\u001b[0m \u001b[0;34m<\u001b[0m \u001b[0mn\u001b[0m\u001b[0;34m)\u001b[0m\u001b[0;34m:\u001b[0m\u001b[0;34m\u001b[0m\u001b[0m\n",
      "\u001b[0;31mKeyboardInterrupt\u001b[0m: "
     ]
    }
   ],
   "source": [
    "cells = np.zeros((timesteps,dim,dim))\n",
    "\n",
    "cells[0,:,:] = np.random.randint(0,n+1,(dim,dim))\n",
    "\n",
    "# Loop over timesteps\n",
    "for t in range(timesteps-1):\n",
    "    # Loop over dimensions\n",
    "    for i in range(dim):\n",
    "        for j in range(dim):\n",
    "            # Check for ill condition and keep going \n",
    "            if (cells[t,i,j] == n):\n",
    "                cells[t+1] = 0\n",
    "                continue\n",
    "            # Get the neighbor cells\n",
    "            neighbors = get_neighbors(i,j,dim)\n",
    "            \n",
    "            # Initialize healthy, infected, ill\n",
    "            healthy = 0\n",
    "            infected = 0\n",
    "            ill = 0\n",
    "            \n",
    "            # Start my own state as the total\n",
    "            total = cells[t,i,j]\n",
    "            \n",
    "            # Loop over neighbors and count healthy, infected, ill, and numerator for infected condition          \n",
    "            for x in neighbors:\n",
    "                if (cells[t,x[0],x[1]] == 0):\n",
    "                    healthy += 1\n",
    "                elif (cells[t,x[0],x[1]] < n):\n",
    "                    infected += 1\n",
    "                    total += cells[t,x[0],x[1]]\n",
    "                else:\n",
    "                    ill += 1\n",
    "            \n",
    "            # Update cells at time t+1 based on transition rules (Don't forget to add one to infected count)\n",
    "            if (cells[t,i,j] == n):\n",
    "                cells[t+1,i,j] = int(np.floor(infected/k1) + np.floor(ill/k2))\n",
    "            elif (cells[t,i,j] < n):\n",
    "                cells[t+1,i,j] = int(min(total/(infected + 1.0) + g, n))\n",
    "                "
   ]
  },
  {
   "cell_type": "code",
   "execution_count": null,
   "id": "becea572",
   "metadata": {},
   "outputs": [],
   "source": [
    "def update(i):\n",
    "    time.sleep(0.05)\n",
    "    mat.set_data(cells[i])\n",
    "    \n",
    "\n",
    "fig, ax = plt.subplots()\n",
    "mat = ax.matshow(cells[0], vmin=0, vmax=n)\n",
    "ani = animation.FuncAnimation(fig, update, interval=50, frames=timesteps, repeat=False)\n",
    "\n",
    "\n",
    "\n",
    "plt.show()"
   ]
  },
  {
   "cell_type": "code",
   "execution_count": null,
   "id": "8b3c208a",
   "metadata": {},
   "outputs": [],
   "source": []
  }
 ],
 "metadata": {
  "kernelspec": {
   "display_name": "Python 3 (ipykernel)",
   "language": "python",
   "name": "python3"
  },
  "language_info": {
   "codemirror_mode": {
    "name": "ipython",
    "version": 3
   },
   "file_extension": ".py",
   "mimetype": "text/x-python",
   "name": "python",
   "nbconvert_exporter": "python",
   "pygments_lexer": "ipython3",
   "version": "3.7.0"
  }
 },
 "nbformat": 4,
 "nbformat_minor": 5
}
