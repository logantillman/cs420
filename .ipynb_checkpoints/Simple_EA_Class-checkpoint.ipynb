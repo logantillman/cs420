{
 "cells": [
  {
   "cell_type": "code",
   "execution_count": 1,
   "id": "9c36474c",
   "metadata": {},
   "outputs": [],
   "source": [
    "import numpy as np\n",
    "import matplotlib.pyplot as plt\n",
    "\n",
    "def fitness(x):\n",
    "    # Add fitness function here\n",
    "    return 0\n",
    "\n",
    "def uniform_crossover(p_c, p1, p2):\n",
    "    # Return children\n",
    "    return None, None\n",
    "\n",
    "def mutation(p_m, p):\n",
    "    # Return child\n",
    "    return None\n",
    "\n",
    "def tournament_selection(fitnesses, ts):\n",
    "    # Return index of selected individual\n",
    "    return 0\n",
    "\n",
    "pop_size = 100\n",
    "ind_len = 50\n",
    "p_c = 0.5\n",
    "P_m = 0.01\n",
    "\n",
    "# Initialize binary population\n",
    "population = np.random.randint(0,2,(pop_size, ind_len))\n",
    "\n",
    "# Start at generation 0\n",
    "gen = 0\n",
    "\n",
    "# Track relevant fitness info\n",
    "mean_fits = []\n",
    "max_fits = []\n",
    "\n",
    "while (gen < 100):\n",
    "    # Initialize children\n",
    "    children = np.zeros((pop_size, ind_len))\n",
    "    \n",
    "    # Calculate fitnesses\n",
    "    fitnesses = [fitness(x) for x in population]\n",
    "    \n",
    "    # Track relevant fitness info\n",
    "    \n",
    "    # Print generation info and increment gen\n",
    "    gen += 1\n",
    "    \n",
    "    # Select parents\n",
    "    \n",
    "    # Create children in pairs\n",
    "    \n",
    "    # Replace population with children\n",
    "    "
   ]
  },
  {
   "cell_type": "code",
   "execution_count": null,
   "id": "586e52c5",
   "metadata": {},
   "outputs": [],
   "source": [
    "# Plot the fitness info"
   ]
  }
 ],
 "metadata": {
  "kernelspec": {
   "display_name": "Python 3 (ipykernel)",
   "language": "python",
   "name": "python3"
  },
  "language_info": {
   "codemirror_mode": {
    "name": "ipython",
    "version": 3
   },
   "file_extension": ".py",
   "mimetype": "text/x-python",
   "name": "python",
   "nbconvert_exporter": "python",
   "pygments_lexer": "ipython3",
   "version": "3.7.0"
  }
 },
 "nbformat": 4,
 "nbformat_minor": 5
}
