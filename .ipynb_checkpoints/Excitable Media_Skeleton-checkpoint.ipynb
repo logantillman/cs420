{
 "cells": [
  {
   "cell_type": "code",
   "execution_count": null,
   "id": "c08c7781",
   "metadata": {},
   "outputs": [],
   "source": [
    "%matplotlib notebook\n",
    "import numpy as np\n",
    "import matplotlib.pyplot as plt\n",
    "import matplotlib.animation as animation\n",
    "import time\n",
    "\n",
    "p_zero = 0.9\n",
    "\n",
    "cells = np.random.choice([0, 1], size=(100,100), p=[p_zero, 1-p_zero])\n",
    "    \n",
    "def get_outer_neighbors(r,c,rows,cols):\n",
    "    return [[(r-1)%rows,(c-1)%cols],\n",
    "           ]\n",
    "\n",
    "progression = []\n",
    "\n",
    "for t in range(50):\n",
    "    # Copy the old cells\n",
    "    \n",
    "    # Get the shape\n",
    "    \n",
    "    # Loop over the rows/columns and update the state\n"
   ]
  },
  {
   "cell_type": "code",
   "execution_count": null,
   "id": "f93621a4",
   "metadata": {},
   "outputs": [],
   "source": [
    "def update(i):\n",
    "    time.sleep(0.1)\n",
    "    mat.set_data(progression[i])\n",
    "\n",
    "fig, ax = plt.subplots()\n",
    "mat = ax.matshow(cells, cmap='binary', vmin=0, vmax=2)\n",
    "ani = animation.FuncAnimation(fig, update, frames=50, repeat=False)\n",
    "plt.show()"
   ]
  }
 ],
 "metadata": {
  "kernelspec": {
   "display_name": "Python 3 (ipykernel)",
   "language": "python",
   "name": "python3"
  },
  "language_info": {
   "codemirror_mode": {
    "name": "ipython",
    "version": 3
   },
   "file_extension": ".py",
   "mimetype": "text/x-python",
   "name": "python",
   "nbconvert_exporter": "python",
   "pygments_lexer": "ipython3",
   "version": "3.7.0"
  }
 },
 "nbformat": 4,
 "nbformat_minor": 5
}
