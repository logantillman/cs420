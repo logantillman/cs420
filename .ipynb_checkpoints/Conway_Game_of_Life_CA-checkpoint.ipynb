{
 "cells": [
  {
   "cell_type": "code",
   "execution_count": 1,
   "id": "e5708897",
   "metadata": {},
   "outputs": [
    {
     "ename": "ModuleNotFoundError",
     "evalue": "No module named 'gol_structures'",
     "output_type": "error",
     "traceback": [
      "\u001b[0;31m---------------------------------------------------------------------------\u001b[0m",
      "\u001b[0;31mModuleNotFoundError\u001b[0m                       Traceback (most recent call last)",
      "\u001b[0;32m/var/folders/x7/pdx64kyj0l1bkkz8zq8crxpc0000gn/T/ipykernel_2045/880348583.py\u001b[0m in \u001b[0;36m<module>\u001b[0;34m\u001b[0m\n\u001b[1;32m      5\u001b[0m \u001b[0;32mimport\u001b[0m \u001b[0mtime\u001b[0m\u001b[0;34m\u001b[0m\u001b[0m\n\u001b[1;32m      6\u001b[0m \u001b[0;32mimport\u001b[0m \u001b[0mmatplotlib\u001b[0m\u001b[0;34m.\u001b[0m\u001b[0manimation\u001b[0m \u001b[0;32mas\u001b[0m \u001b[0manimation\u001b[0m\u001b[0;34m\u001b[0m\u001b[0m\n\u001b[0;32m----> 7\u001b[0;31m \u001b[0;32mfrom\u001b[0m \u001b[0mgol_structures\u001b[0m \u001b[0;32mimport\u001b[0m \u001b[0;34m*\u001b[0m\u001b[0;34m\u001b[0m\u001b[0m\n\u001b[0m\u001b[1;32m      8\u001b[0m \u001b[0;34m\u001b[0m\u001b[0m\n\u001b[1;32m      9\u001b[0m \u001b[0mnp\u001b[0m\u001b[0;34m.\u001b[0m\u001b[0mrandom\u001b[0m\u001b[0;34m.\u001b[0m\u001b[0mseed\u001b[0m\u001b[0;34m(\u001b[0m\u001b[0;36m0\u001b[0m\u001b[0;34m)\u001b[0m\u001b[0;34m\u001b[0m\u001b[0m\n",
      "\u001b[0;31mModuleNotFoundError\u001b[0m: No module named 'gol_structures'"
     ]
    }
   ],
   "source": [
    "%matplotlib notebook\n",
    "\n",
    "import numpy as np\n",
    "import matplotlib.pyplot as plt\n",
    "import time\n",
    "import matplotlib.animation as animation\n",
    "from gol_structures import *\n",
    "\n",
    "np.random.seed(0)\n",
    "\n",
    "progression = []\n",
    "rows = 50\n",
    "cols = 50\n",
    "\n",
    "size = (rows,cols)\n",
    "\n",
    "prob_0 = 0.8              \n",
    "\n",
    "# Random initialization of the 2D environment\n",
    "#x = np.random.choice([0, 1], size=size, p=[prob_0, 1-prob_0])\n",
    "\n",
    "x = np.zeros(size)\n",
    "x = add_glider_gun(x, 5, 5)\n",
    "x = add_eater(x, 20, 40)\n",
    "prev = x.copy()\n",
    "progression.append(prev)\n",
    "\n",
    "steps = 500\n",
    "\n",
    "for t in range(steps):\n",
    "    for r in range(rows):\n",
    "        for c in range(cols):\n",
    "            total = 0\n",
    "            # Count how many are in its neighborhood\n",
    "            for rn in [i%rows for i in range(r-1, r+2)]:\n",
    "                for cn in [i%cols for i in range(c-1, c+2)]:\n",
    "                    total += prev[rn, cn]\n",
    "            # Subtract myself\n",
    "            total -= prev[r,c]\n",
    "            if (prev[r,c] == 0 and total == 3):\n",
    "                x[r,c] = 1\n",
    "            elif (prev[r,c] == 1 and total != 2 and total != 3):\n",
    "                x[r,c] = 0\n",
    "\n",
    "    # Keep track of the progression for animation        \n",
    "    prev = x.copy()\n",
    "    progression.append(prev)\n"
   ]
  },
  {
   "cell_type": "code",
   "execution_count": null,
   "id": "d9568377",
   "metadata": {},
   "outputs": [],
   "source": [
    "def update(i):\n",
    "    mat.set_data(progression[i])\n",
    "    \n",
    "fig, ax = plt.subplots()\n",
    "mat = ax.matshow(progression[0], cmap='binary')\n",
    "ani = animation.FuncAnimation(fig, update, interval=50, frames=steps, repeat=False)\n",
    "plt.show()"
   ]
  },
  {
   "cell_type": "code",
   "execution_count": null,
   "id": "722d411d",
   "metadata": {},
   "outputs": [],
   "source": []
  }
 ],
 "metadata": {
  "kernelspec": {
   "display_name": "Python 3 (ipykernel)",
   "language": "python",
   "name": "python3"
  },
  "language_info": {
   "codemirror_mode": {
    "name": "ipython",
    "version": 3
   },
   "file_extension": ".py",
   "mimetype": "text/x-python",
   "name": "python",
   "nbconvert_exporter": "python",
   "pygments_lexer": "ipython3",
   "version": "3.7.0"
  }
 },
 "nbformat": 4,
 "nbformat_minor": 5
}
