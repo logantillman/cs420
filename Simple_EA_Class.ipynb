{
 "cells": [
  {
   "cell_type": "code",
   "execution_count": 13,
   "id": "9c36474c",
   "metadata": {},
   "outputs": [
    {
     "name": "stdout",
     "output_type": "stream",
     "text": [
      "Gen  0 : 34\n"
     ]
    },
    {
     "ename": "NameError",
     "evalue": "name 'p_m' is not defined",
     "output_type": "error",
     "traceback": [
      "\u001b[0;31m---------------------------------------------------------------------------\u001b[0m",
      "\u001b[0;31mNameError\u001b[0m                                 Traceback (most recent call last)",
      "\u001b[0;32m/var/folders/x7/pdx64kyj0l1bkkz8zq8crxpc0000gn/T/ipykernel_14388/2264753724.py\u001b[0m in \u001b[0;36m<module>\u001b[0;34m\u001b[0m\n\u001b[1;32m     78\u001b[0m     \u001b[0;32mfor\u001b[0m \u001b[0mi\u001b[0m \u001b[0;32min\u001b[0m \u001b[0mrange\u001b[0m\u001b[0;34m(\u001b[0m\u001b[0;36m0\u001b[0m\u001b[0;34m,\u001b[0m \u001b[0mpop_size\u001b[0m\u001b[0;34m,\u001b[0m \u001b[0;36m2\u001b[0m\u001b[0;34m)\u001b[0m\u001b[0;34m:\u001b[0m\u001b[0;34m\u001b[0m\u001b[0m\n\u001b[1;32m     79\u001b[0m         \u001b[0mc1\u001b[0m\u001b[0;34m,\u001b[0m \u001b[0mc2\u001b[0m \u001b[0;34m=\u001b[0m \u001b[0muniform_crossover\u001b[0m\u001b[0;34m(\u001b[0m\u001b[0mpopulation\u001b[0m\u001b[0;34m[\u001b[0m\u001b[0mparents\u001b[0m\u001b[0;34m[\u001b[0m\u001b[0mi\u001b[0m\u001b[0;34m]\u001b[0m\u001b[0;34m]\u001b[0m\u001b[0;34m,\u001b[0m \u001b[0mpopulation\u001b[0m\u001b[0;34m[\u001b[0m\u001b[0mparents\u001b[0m\u001b[0;34m[\u001b[0m\u001b[0mi\u001b[0m\u001b[0;34m+\u001b[0m\u001b[0;36m1\u001b[0m\u001b[0;34m]\u001b[0m\u001b[0;34m]\u001b[0m\u001b[0;34m,\u001b[0m \u001b[0mp_c\u001b[0m\u001b[0;34m)\u001b[0m\u001b[0;34m\u001b[0m\u001b[0m\n\u001b[0;32m---> 80\u001b[0;31m         \u001b[0mc1\u001b[0m \u001b[0;34m=\u001b[0m \u001b[0mmutation\u001b[0m\u001b[0;34m(\u001b[0m\u001b[0mp_m\u001b[0m\u001b[0;34m,\u001b[0m \u001b[0mc1\u001b[0m\u001b[0;34m)\u001b[0m\u001b[0;34m\u001b[0m\u001b[0m\n\u001b[0m\u001b[1;32m     81\u001b[0m         \u001b[0mc2\u001b[0m \u001b[0;34m=\u001b[0m \u001b[0mmutation\u001b[0m\u001b[0;34m(\u001b[0m\u001b[0mp_m\u001b[0m\u001b[0;34m,\u001b[0m \u001b[0mc2\u001b[0m\u001b[0;34m)\u001b[0m\u001b[0;34m\u001b[0m\u001b[0m\n\u001b[1;32m     82\u001b[0m         \u001b[0mchildren\u001b[0m\u001b[0;34m[\u001b[0m\u001b[0mi\u001b[0m\u001b[0;34m,\u001b[0m\u001b[0;34m:\u001b[0m\u001b[0;34m]\u001b[0m \u001b[0;34m=\u001b[0m \u001b[0mc1\u001b[0m\u001b[0;34m[\u001b[0m\u001b[0;34m:\u001b[0m\u001b[0;34m]\u001b[0m\u001b[0;34m\u001b[0m\u001b[0m\n",
      "\u001b[0;31mNameError\u001b[0m: name 'p_m' is not defined"
     ]
    }
   ],
   "source": [
    "import numpy as np\n",
    "import matplotlib.pyplot as plt\n",
    "\n",
    "def fitness(x):\n",
    "    # Add fitness function here\n",
    "    return np.sum(x)\n",
    "\n",
    "def uniform_crossover(p1, p2, p_c):\n",
    "    # Return children\n",
    "    if (np.random.random() < p_c):\n",
    "        c1 = np.zeros(p1.shape)\n",
    "        c2 = np.zeros(p2.shape)\n",
    "        ind_len, = p1.shape\n",
    "        for i in range(ind_len):\n",
    "            if (np.random.random() < 0.5):\n",
    "                c1[i] = p1[i]\n",
    "                c2[i] = p2[i]\n",
    "            else:\n",
    "                c1[i] = p2[i]\n",
    "                c2[i] = p1[i]\n",
    "    else:\n",
    "        c1 = p1.copy()\n",
    "        c2 = p2.copy()        \n",
    "    return c1, c2\n",
    "\n",
    "def mutation(p_m, p):\n",
    "    # Return child\n",
    "    ind_len, = p.shape\n",
    "    c = np.zero(p.shape)\n",
    "    for i in range(ind_len):\n",
    "        if(np.random.random() < p_m):\n",
    "            if (p[i] == 0):\n",
    "                c[i] = 1\n",
    "            else:\n",
    "                c[i] = 0\n",
    "    return c\n",
    "\n",
    "def tournament_selection(fitnesses, ts):\n",
    "    # Return index of selected individual\n",
    "    tourn = np.random.choice(range(len(fitnesses)), ts, replace=False)\n",
    "    tourn_fits = [fitnesses[i] for i in tourn]\n",
    "    return tourn[np.argmax(tourn_fits)]\n",
    "\n",
    "pop_size = 100\n",
    "ind_len = 50\n",
    "p_c = 0.5\n",
    "P_m = 0.01\n",
    "\n",
    "# Initialize binary population\n",
    "population = np.random.randint(0,2,(pop_size, ind_len))\n",
    "\n",
    "# Start at generation 0\n",
    "gen = 0\n",
    "\n",
    "# Track relevant fitness info\n",
    "mean_fits = []\n",
    "max_fits = []\n",
    "\n",
    "while (gen < 100):\n",
    "    # Initialize children\n",
    "    children = np.zeros((pop_size, ind_len))\n",
    "    \n",
    "    # Calculate fitnesses\n",
    "    fitnesses = [fitness(x) for x in population]\n",
    "    \n",
    "    # Track relevant fitness info\n",
    "    mean_fits.append(np.mean(fitnesses))\n",
    "    max_fits.append(max(fitnesses))\n",
    "    \n",
    "    # Print generation info and increment gen\n",
    "    print(\"Gen \", gen, \":\", max(fitnesses))\n",
    "    gen += 1\n",
    "    \n",
    "    # Select parents\n",
    "    parents = [tournament_selection(fitnesses, 2) for i in range(pop_size)]\n",
    "    \n",
    "    # Create children in pairs\n",
    "    for i in range(0, pop_size, 2):\n",
    "        c1, c2 = uniform_crossover(population[parents[i]], population[parents[i+1]], p_c)\n",
    "        c1 = mutation(p_m, c1)\n",
    "        c2 = mutation(p_m, c2)\n",
    "        children[i,:] = c1[:]\n",
    "        children[i+1,:] = c2[:]\n",
    "    \n",
    "    # Replace population with children\n",
    "    population = children"
   ]
  },
  {
   "cell_type": "code",
   "execution_count": null,
   "id": "586e52c5",
   "metadata": {},
   "outputs": [],
   "source": [
    "# Plot the fitness info"
   ]
  }
 ],
 "metadata": {
  "kernelspec": {
   "display_name": "Python 3 (ipykernel)",
   "language": "python",
   "name": "python3"
  },
  "language_info": {
   "codemirror_mode": {
    "name": "ipython",
    "version": 3
   },
   "file_extension": ".py",
   "mimetype": "text/x-python",
   "name": "python",
   "nbconvert_exporter": "python",
   "pygments_lexer": "ipython3",
   "version": "3.7.0"
  }
 },
 "nbformat": 4,
 "nbformat_minor": 5
}
